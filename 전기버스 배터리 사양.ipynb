{
 "cells": [
  {
   "cell_type": "code",
   "execution_count": 2,
   "metadata": {},
   "outputs": [
    {
     "data": {
      "text/html": [
       "<div>\n",
       "<style scoped>\n",
       "    .dataframe tbody tr th:only-of-type {\n",
       "        vertical-align: middle;\n",
       "    }\n",
       "\n",
       "    .dataframe tbody tr th {\n",
       "        vertical-align: top;\n",
       "    }\n",
       "\n",
       "    .dataframe thead th {\n",
       "        text-align: right;\n",
       "    }\n",
       "</style>\n",
       "<table border=\"1\" class=\"dataframe\">\n",
       "  <thead>\n",
       "    <tr style=\"text-align: right;\">\n",
       "      <th></th>\n",
       "      <th>BV_MF_CD</th>\n",
       "      <th>MDL_NM</th>\n",
       "      <th>BATT_CAPCITY</th>\n",
       "    </tr>\n",
       "  </thead>\n",
       "  <tbody>\n",
       "    <tr>\n",
       "      <th>0</th>\n",
       "      <td>HYD</td>\n",
       "      <td>일렉시티</td>\n",
       "      <td>128</td>\n",
       "    </tr>\n",
       "    <tr>\n",
       "      <th>1</th>\n",
       "      <td>HYD</td>\n",
       "      <td>일렉시티</td>\n",
       "      <td>256</td>\n",
       "    </tr>\n",
       "    <tr>\n",
       "      <th>2</th>\n",
       "      <td>HYD</td>\n",
       "      <td>일렉시티 이층버스</td>\n",
       "      <td>384</td>\n",
       "    </tr>\n",
       "    <tr>\n",
       "      <th>3</th>\n",
       "      <td>HYD</td>\n",
       "      <td>일렉시티 굴절버스</td>\n",
       "      <td>256</td>\n",
       "    </tr>\n",
       "    <tr>\n",
       "      <th>4</th>\n",
       "      <td>HYD</td>\n",
       "      <td>카운티 일렉트릭 마을버스</td>\n",
       "      <td>128</td>\n",
       "    </tr>\n",
       "  </tbody>\n",
       "</table>\n",
       "</div>"
      ],
      "text/plain": [
       "  BV_MF_CD         MDL_NM  BATT_CAPCITY\n",
       "0      HYD           일렉시티           128\n",
       "1      HYD           일렉시티           256\n",
       "2      HYD      일렉시티 이층버스           384\n",
       "3      HYD      일렉시티 굴절버스           256\n",
       "4      HYD  카운티 일렉트릭 마을버스           128"
      ]
     },
     "execution_count": 2,
     "metadata": {},
     "output_type": "execute_result"
    }
   ],
   "source": [
    "import pandas as pd\n",
    "bat=pd.read_csv('C:\\\\Users\\\\user\\\\Desktop\\\\VS code\\\\test\\\\2. pumpkin\\\\data\\\\FS0300.csv', encoding = 'utf-8-sig')\n",
    "bat.head(5)"
   ]
  },
  {
   "cell_type": "code",
   "execution_count": 3,
   "metadata": {},
   "outputs": [],
   "source": [
    "bat.rename(columns={'BV_MF_CD':'제조사','MDL_NM':'모델','BATT_CAPCITY':'배터리 용량(kw)'},inplace=True)"
   ]
  },
  {
   "cell_type": "code",
   "execution_count": 5,
   "metadata": {},
   "outputs": [],
   "source": [
    "bat.to_excel('C:\\\\Users\\\\user\\\\Downloads\\\\전기버스 배터리 사양.xlsx', encoding = 'utf-8-sig', index = False)"
   ]
  },
  {
   "cell_type": "code",
   "execution_count": null,
   "metadata": {},
   "outputs": [],
   "source": []
  }
 ],
 "metadata": {
  "kernelspec": {
   "display_name": "Python 3.8.10 ('baek')",
   "language": "python",
   "name": "python3"
  },
  "language_info": {
   "codemirror_mode": {
    "name": "ipython",
    "version": 3
   },
   "file_extension": ".py",
   "mimetype": "text/x-python",
   "name": "python",
   "nbconvert_exporter": "python",
   "pygments_lexer": "ipython3",
   "version": "3.8.10"
  },
  "orig_nbformat": 4,
  "vscode": {
   "interpreter": {
    "hash": "8e9bbfcf25c63d0f05de5a9087fbde62af5a96a5f83668e22009a644a495c2a1"
   }
  }
 },
 "nbformat": 4,
 "nbformat_minor": 2
}
