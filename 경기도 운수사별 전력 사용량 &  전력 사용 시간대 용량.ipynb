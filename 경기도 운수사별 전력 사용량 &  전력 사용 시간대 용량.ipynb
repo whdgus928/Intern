{
 "cells": [
  {
   "cell_type": "code",
   "execution_count": null,
   "metadata": {},
   "outputs": [],
   "source": [
    "import pandas as pd\n",
    "recd=pd.read_csv('C:\\\\Users\\\\user\\\\Desktop\\\\PPK_ELCTY_ATMBL_ELCTC_RECD_Y_2022-01-01_2022-06-30.csv', encoding = 'utf-8-sig')\n",
    "recd.head(5)"
   ]
  },
  {
   "cell_type": "code",
   "execution_count": null,
   "metadata": {},
   "outputs": [],
   "source": [
    "recd.columns"
   ]
  },
  {
   "cell_type": "code",
   "execution_count": null,
   "metadata": {},
   "outputs": [],
   "source": [
    "#필요한 컬럼만 추출\n",
    "recd.drop(columns=['ELCTC_DTM', 'CHRGR_ID', 'CTPR_CD', 'SIGNGU_CD', 'CTPR_NM', 'CHRSTN_NM', 'LA', 'LO', 'ELCTC_DV', 'ELCTC_MTHD', 'STRT_DTM', 'END_DTM', 'STRT_SOC', 'END_SOC', 'SOC_ELCTC_QTY', 'ELCTC_TM', 'RM', 'PRDCT_DTM'],inplace=True)\n"
   ]
  },
  {
   "cell_type": "code",
   "execution_count": null,
   "metadata": {},
   "outputs": [],
   "source": [
    "경기도=['수원시','성남시','의정부시','안양시','부천시','광명시','평택시','동두천시','안산시','고양시','과천시','구리시','남양주시','오산시','시흥시','군포시','의왕시','하남시','용인시','파주시','이천시','안성시','김포시','화성시','광주시','양주시','포천시','여주시','연천군','가평군','양평군']\n",
    "recd.drop(index=recd[~recd['SIGNGU_NM'].isin(경기도)].index,inplace=True)"
   ]
  },
  {
   "cell_type": "code",
   "execution_count": null,
   "metadata": {},
   "outputs": [],
   "source": [
    "#인덱스 초기화\n",
    "recd.reset_index(drop=True,inplace=True)\n",
    "recd"
   ]
  },
  {
   "cell_type": "code",
   "execution_count": null,
   "metadata": {},
   "outputs": [],
   "source": [
    "summary=recd.groupby('CHRSTN_ID').sum()\n",
    "summary.reset_index(inplace=True)\n",
    "#aa.to_csv('C:\\\\Users\\\\user\\\\Desktop\\\\VS code\\\\test\\\\경기도 전력 사용 시간대 용량(kw).csv', encoding = 'utf-8-sig', index = True)"
   ]
  },
  {
   "cell_type": "code",
   "execution_count": null,
   "metadata": {},
   "outputs": [],
   "source": [
    "summary"
   ]
  },
  {
   "cell_type": "code",
   "execution_count": null,
   "metadata": {},
   "outputs": [],
   "source": [
    "code_si={}\n",
    "for idx in recd.index:\n",
    "    code_si[recd.loc[idx,'CHRSTN_ID']] = recd.loc[idx,'SIGNGU_NM']\n",
    "   \n",
    "code_si"
   ]
  },
  {
   "cell_type": "code",
   "execution_count": null,
   "metadata": {},
   "outputs": [],
   "source": [
    "code_si={'KRPPKCS0001': '수원시',\n",
    " 'KRPPKCS0021': '시흥시',\n",
    " 'KRPPKCS0064': '수원시',\n",
    " 'KRPPKCS0070': '광명시',\n",
    " 'KRPPKCS0020': '광명시',\n",
    " 'KRPPKCS0002': '안양시',\n",
    " 'KRPPKCS0003': '시흥시',\n",
    " 'KRPPKCS0007': '고양시',\n",
    " 'KRPPKCS0016': '오산시',\n",
    " 'KRPPKCS0069': '안양시',\n",
    " 'KRPPKCS0012': '안양시',\n",
    " 'KRPPKCS0065': '김포시',\n",
    " 'KRPPKCS0066': '파주시',\n",
    " 'KRPPKCS0068': '안양시',\n",
    " 'KRPPKCS0011': '광명시',\n",
    " 'KRPPKCS0062': '부천시',\n",
    " 'KRPPKCS0008': '부천시',\n",
    " 'KRPPKCS0067': '파주시',\n",
    " 'KRPPKCS0061': '포천시',\n",
    " 'KRPPKCS0022': '김포시',\n",
    " 'KRPPKCS0005': '화성시'}"
   ]
  },
  {
   "cell_type": "code",
   "execution_count": null,
   "metadata": {},
   "outputs": [],
   "source": [
    "summary['지역']=''"
   ]
  },
  {
   "cell_type": "code",
   "execution_count": null,
   "metadata": {},
   "outputs": [],
   "source": [
    "for idx in summary.index:\n",
    "    summary.loc[idx,'지역']=code_si[summary.loc[idx,'CHRSTN_ID']]\n",
    "summary"
   ]
  },
  {
   "cell_type": "code",
   "execution_count": null,
   "metadata": {},
   "outputs": [],
   "source": [
    "summary.drop(columns=['PWRER_USQNT_LLD',\t'PWRER_USQNT_MILD',\t'PWRER_USQNT_MXLD'],inplace=True)"
   ]
  },
  {
   "cell_type": "code",
   "execution_count": null,
   "metadata": {},
   "outputs": [],
   "source": [
    "summary=summary[['CHRSTN_ID',\t'지역','PWRER_USQNT']]"
   ]
  },
  {
   "cell_type": "code",
   "execution_count": null,
   "metadata": {},
   "outputs": [],
   "source": [
    "summary.rename(columns={'CHRSTN_ID':'운수사','지역':'시군구','PWRER_USQNT':'2022년도'},inplace=True)\n",
    "summary"
   ]
  },
  {
   "cell_type": "code",
   "execution_count": null,
   "metadata": {},
   "outputs": [],
   "source": [
    "summary.to_excel('C:\\\\Users\\\\user\\\\Downloads\\\\경기도 운수사별 전력 사용량(KW).xlsx', encoding = 'utf-8-sig', index = False)"
   ]
  },
  {
   "cell_type": "markdown",
   "metadata": {},
   "source": [
    "전력 사용 시간대 용량"
   ]
  },
  {
   "cell_type": "code",
   "execution_count": null,
   "metadata": {},
   "outputs": [],
   "source": [
    "summary"
   ]
  },
  {
   "cell_type": "code",
   "execution_count": null,
   "metadata": {},
   "outputs": [],
   "source": [
    "summary.drop(columns=['PWRER_USQNT'],inplace=True)"
   ]
  },
  {
   "cell_type": "code",
   "execution_count": null,
   "metadata": {},
   "outputs": [],
   "source": [
    "summary.rename(columns={'CHRSTN_ID':'운수사','PWRER_USQNT_LLD':'경부하','PWRER_USQNT_MILD':'중간부하','PWRER_USQNT_MXLD':'최대부하'},inplace=True)"
   ]
  },
  {
   "cell_type": "code",
   "execution_count": null,
   "metadata": {},
   "outputs": [],
   "source": [
    "summary=summary[['운수사',\t'최대부하','중간부하','경부하']]\n",
    "summary"
   ]
  },
  {
   "cell_type": "code",
   "execution_count": null,
   "metadata": {},
   "outputs": [],
   "source": [
    "summary.to_excel('C:\\\\Users\\\\user\\\\Downloads\\\\경기도 전력 사용 시간대 용량(KW).xlsx', encoding = 'utf-8-sig', index = False)"
   ]
  },
  {
   "cell_type": "code",
   "execution_count": null,
   "metadata": {},
   "outputs": [],
   "source": [
    "import openpyxl as oxl\n",
    "from openpyxl.styles import Font, Border, Side, PatternFill, Alignment\n",
    "from openpyxl import load_workbook\n",
    "wb = load_workbook('C:\\\\Users\\\\user\\\\Downloads\\\\경기도 전력 사용 시간대 용량(KW).xlsx')\n",
    "ws = wb.active\n",
    "\n",
    "#행 삽입\n",
    "ws.insert_rows(0)\n",
    "\n",
    "# 병합하기\n",
    "ws.merge_cells(\"B1:D1\")  # B2부터 D2까지 합치기\n",
    "ws[\"B1\"].value = \"2022년도\"\n",
    "ws.merge_cells(\"A1:A2\")\n",
    "ws[\"A1\"].value = \"운수사\"\n",
    "\n",
    "# 글씨체 볼드\n",
    "thin_border = Border(left=Side(style='thin'), right =Side(style='thin'), top=Side(style='thin'),bottom = Side(style='thin'))\n",
    "for i in ['A','B','C','D']:\n",
    "    for j in ['1','2']:\n",
    "        one_box = i + j\n",
    "        ws[one_box].font  = Font(bold = True)\n",
    "# 테두리 굵게\n",
    "thin_border = Border(left=Side(style='thin'), right =Side(style='thin'), top=Side(style='thin'),bottom = Side(style='thin'))\n",
    "for i in ['A','B','C','D']:\n",
    "    for j in ['1','2']:\n",
    "        one_box = i + j\n",
    "        ws[one_box].border  = thin_border\n",
    "# 가운데 정렬\n",
    "for i in ['A','B','C','D']:\n",
    "    for j in ['1','2']:\n",
    "        one_box = i + j\n",
    "        ws[one_box].alignment = Alignment(horizontal = 'center', vertical = 'center')\n",
    "\n",
    "\n",
    "wb.save('C:\\\\Users\\\\user\\\\Downloads\\\\경기도 전력 사용 시간대 용량(KW).xlsx')\n",
    "wb.close()"
   ]
  },
  {
   "cell_type": "code",
   "execution_count": null,
   "metadata": {},
   "outputs": [],
   "source": []
  },
  {
   "cell_type": "code",
   "execution_count": null,
   "metadata": {},
   "outputs": [],
   "source": []
  }
 ],
 "metadata": {
  "kernelspec": {
   "display_name": "Python 3.8.10 ('baek')",
   "language": "python",
   "name": "python3"
  },
  "language_info": {
   "codemirror_mode": {
    "name": "ipython",
    "version": 3
   },
   "file_extension": ".py",
   "mimetype": "text/x-python",
   "name": "python",
   "nbconvert_exporter": "python",
   "pygments_lexer": "ipython3",
   "version": "3.8.10"
  },
  "orig_nbformat": 4,
  "vscode": {
   "interpreter": {
    "hash": "8e9bbfcf25c63d0f05de5a9087fbde62af5a96a5f83668e22009a644a495c2a1"
   }
  }
 },
 "nbformat": 4,
 "nbformat_minor": 2
}
